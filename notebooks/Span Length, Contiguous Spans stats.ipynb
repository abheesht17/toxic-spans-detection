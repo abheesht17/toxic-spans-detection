{
 "metadata": {
  "language_info": {
   "codemirror_mode": {
    "name": "ipython",
    "version": 3
   },
   "file_extension": ".py",
   "mimetype": "text/x-python",
   "name": "python",
   "nbconvert_exporter": "python",
   "pygments_lexer": "ipython3",
   "version": "3.8.3-final"
  },
  "orig_nbformat": 2,
  "kernelspec": {
   "name": "python3",
   "display_name": "Python 3",
   "language": "python"
  }
 },
 "nbformat": 4,
 "nbformat_minor": 2,
 "cells": [
  {
   "cell_type": "code",
   "execution_count": 2,
   "metadata": {},
   "outputs": [],
   "source": [
    "train_file = './data/tsd_train.csv'\n",
    "trial_file = './data/tsd_trial.csv'\n",
    "modified_train_file = './data/modified_train.csv'\n",
    "clean_train_file = './data/clean_train.csv'\n",
    "clean_trial_file = './data/clean_trial.csv'"
   ]
  },
  {
   "cell_type": "code",
   "execution_count": 3,
   "metadata": {},
   "outputs": [],
   "source": [
    "all_files = [train_file,trial_file, modified_train_file, clean_train_file, clean_trial_file]"
   ]
  },
  {
   "cell_type": "code",
   "execution_count": 4,
   "metadata": {},
   "outputs": [],
   "source": [
    "import pandas as pd\n",
    "import numpy as np"
   ]
  },
  {
   "cell_type": "code",
   "execution_count": 5,
   "metadata": {},
   "outputs": [
    {
     "output_type": "stream",
     "name": "stdout",
     "text": [
      "/home/crocoder/Desktop/ToxicSpansDetection/toxic-spans-detection\n"
     ]
    }
   ],
   "source": [
    "%cd .."
   ]
  },
  {
   "cell_type": "code",
   "execution_count": 6,
   "metadata": {},
   "outputs": [],
   "source": [
    "from evaluation.fix_spans import _contiguous_ranges"
   ]
  },
  {
   "cell_type": "code",
   "execution_count": 7,
   "metadata": {
    "tags": []
   },
   "outputs": [
    {
     "output_type": "stream",
     "name": "stdout",
     "text": [
      "./data/tsd_train.csv\n",
      "Stats for number of contiguous spans\n",
      "1.2971406978208841 0.8352093410552136 25 0\n",
      "Stats for len of contiguous spans\n",
      "13.508933773548263 38.56797133761296 994 1\n",
      "./data/tsd_trial.csv\n",
      "Stats for number of contiguous spans\n",
      "1.308695652173913 0.7413734083178372 6 0\n",
      "Stats for len of contiguous spans\n",
      "11.299003322259136 20.763213623646095 350 1\n",
      "./data/modified_train.csv\n",
      "Stats for number of contiguous spans\n",
      "1.2973279556339803 0.8354391523896463 25 0\n",
      "Stats for len of contiguous spans\n",
      "13.512969979597784 38.57690183697144 994 1\n",
      "./data/clean_train.csv\n",
      "Stats for number of contiguous spans\n",
      "1.1716662465339047 0.8837232584966108 25 0\n",
      "Stats for len of contiguous spans\n",
      "12.056475903614459 34.50985065745753 997 1\n",
      "./data/clean_trial.csv\n",
      "Stats for number of contiguous spans\n",
      "1.1869565217391305 0.7865560675406447 6 0\n",
      "Stats for len of contiguous spans\n",
      "10.277167277167278 16.357203273646395 281 1\n"
     ]
    }
   ],
   "source": [
    "for fil in all_files:\n",
    "    print(fil)\n",
    "    spans = pd.read_csv(fil)['spans'].apply(eval)\n",
    "    num_contiguous_spans = []\n",
    "    len_contiguous_spans = []\n",
    "    for contiguous_spans in spans.apply (_contiguous_ranges):\n",
    "        num_contiguous_spans.append(len(contiguous_spans))\n",
    "        len_contiguous_spans+=[end-start+1 for start,end in contiguous_spans]\n",
    "    print(\"Stats for number of contiguous spans\")\n",
    "    print(np.mean(num_contiguous_spans),np.std(num_contiguous_spans), np.max(num_contiguous_spans), np.min(num_contiguous_spans))\n",
    "    print(\"Stats for len of contiguous spans\")\n",
    "    print(np.mean(len_contiguous_spans),np.std(len_contiguous_spans), np.max(len_contiguous_spans), np.min(len_contiguous_spans))"
   ]
  },
  {
   "cell_type": "code",
   "execution_count": null,
   "metadata": {},
   "outputs": [],
   "source": []
  }
 ]
}